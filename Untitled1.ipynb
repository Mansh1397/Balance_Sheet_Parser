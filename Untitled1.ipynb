{
 "cells": [
  {
   "cell_type": "code",
   "execution_count": 1,
   "metadata": {},
   "outputs": [],
   "source": [
    "def equalize_lists_length(list_of_lists):\n",
    "\tresult_list = list_of_lists\n",
    "\tmax_length = get_max_length_list_of_lists(result_list)\n",
    "\tfor l in result_list:\n",
    "\t\tif len(l) < max_length:\n",
    "\t\t\tfor i in range(max_length-len(l)):\n",
    "\t\t\t\tl.append('')\n",
    "\treturn result_list"
   ]
  },
  {
   "cell_type": "code",
   "execution_count": 2,
   "metadata": {},
   "outputs": [],
   "source": [
    "def get_max_length_list_of_lists(lists):\n",
    "    size=[]\n",
    "    for i in lists:\n",
    "        size.append(len(i))\n",
    "    return max(size)"
   ]
  },
  {
   "cell_type": "code",
   "execution_count": 7,
   "metadata": {},
   "outputs": [],
   "source": [
    "def select(dict0,list1,list2):\n",
    "    if list1[0]==' 2019' or list1[0]=='2019' or list1[0]=='2019' or list1[0]==' 2019 ':\n",
    "        ans=list1\n",
    "    elif list2[0] =='2019':\n",
    "        ans=list2\n",
    "    else:\n",
    "        ans=[]\n",
    "    dictOfWords = { i : j for i,j in zip(dict0,ans) }\n",
    "    return dictOfWords"
   ]
  },
  {
   "cell_type": "code",
   "execution_count": 8,
   "metadata": {},
   "outputs": [],
   "source": [
    "import pandas as pd\n",
    "def all(file):\n",
    "    with open(file) as myfile:\n",
    "        head = [next(myfile) for x in range(1,10)]\n",
    "        df = pd.DataFrame(head)\n",
    "    lst=[]\n",
    "    for i in df[0]:\n",
    "        lst.append(i)\n",
    "    lst=lst[1:]\n",
    "    ll=[]\n",
    "    for i in lst:\n",
    "        ll.append(i.split('\\s+')[0].strip())\n",
    "    splt=[]\n",
    "    for i in ll:\n",
    "        splt.append((i.split('  ')))\n",
    "    new=[]\n",
    "    for i in splt:\n",
    "        new.append([x for x in i if x])\n",
    "    new.pop(1)\n",
    "    equalize_lists_length(new)\n",
    "    dict0=[]\n",
    "    dict1=[]\n",
    "    dict2=[]\n",
    "    for d in new:\n",
    "        dict0.append(d[0])\n",
    "    for nn in new:\n",
    "        dict1.append(nn[1])\n",
    "    for nn in new:\n",
    "        dict2.append(nn[2])\n",
    "    dictOfWords = select(dict0,dict1,dict2)\n",
    "    return dictOfWords"
   ]
  },
  {
   "cell_type": "code",
   "execution_count": 12,
   "metadata": {},
   "outputs": [
    {
     "data": {
      "text/plain": [
       "{}"
      ]
     },
     "execution_count": 12,
     "metadata": {},
     "output_type": "execute_result"
    }
   ],
   "source": [
    "all('X8XZIML4.txt')"
   ]
  }
 ],
 "metadata": {
  "kernelspec": {
   "display_name": "Python 3",
   "language": "python",
   "name": "python3"
  },
  "language_info": {
   "codemirror_mode": {
    "name": "ipython",
    "version": 3
   },
   "file_extension": ".py",
   "mimetype": "text/x-python",
   "name": "python",
   "nbconvert_exporter": "python",
   "pygments_lexer": "ipython3",
   "version": "3.7.3"
  }
 },
 "nbformat": 4,
 "nbformat_minor": 4
}
